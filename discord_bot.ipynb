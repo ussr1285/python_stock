{
  "nbformat": 4,
  "nbformat_minor": 0,
  "metadata": {
    "colab": {
      "provenance": []
    },
    "kernelspec": {
      "name": "python3",
      "display_name": "Python 3"
    },
    "language_info": {
      "name": "python"
    }
  },
  "cells": [
    {
      "cell_type": "code",
      "source": [
        "import os, sys\n",
        "from google.colab import drive\n",
        "drive.mount('/content/drive')\n",
        "\n",
        "my_path = '/content/notebooks'\n",
        "# Colab Notebooks 안에 my_env 폴더에 패키지 저장\n",
        "os.symlink('/content/drive/My Drive/Colab Notebooks/my_env', my_path)\n",
        "sys.path.insert(0, my_path)"
      ],
      "metadata": {
        "colab": {
          "base_uri": "https://localhost:8080/"
        },
        "id": "xJQmlNWahpoe",
        "outputId": "d552ff12-1806-472c-a7cc-f90074f407b5"
      },
      "execution_count": 5,
      "outputs": [
        {
          "output_type": "stream",
          "name": "stdout",
          "text": [
            "Drive already mounted at /content/drive; to attempt to forcibly remount, call drive.mount(\"/content/drive\", force_remount=True).\n"
          ]
        }
      ]
    },
    {
      "cell_type": "code",
      "source": [
        "# !pip install --target=$my_path discord.py\n",
        "!pip install discord.py\n",
        "!pip install nest_asyncio "
      ],
      "metadata": {
        "colab": {
          "base_uri": "https://localhost:8080/"
        },
        "id": "uKp11GWRh3IE",
        "outputId": "2cc66586-c270-4e0d-ae51-cce4504a7bce"
      },
      "execution_count": 1,
      "outputs": [
        {
          "output_type": "stream",
          "name": "stdout",
          "text": [
            "Looking in indexes: https://pypi.org/simple, https://us-python.pkg.dev/colab-wheels/public/simple/\n",
            "Collecting discord.py\n",
            "  Downloading discord.py-2.1.1-py3-none-any.whl (1.1 MB)\n",
            "\u001b[2K     \u001b[90m━━━━━━━━━━━━━━━━━━━━━━━━━━━━━━━━━━━━━━━━\u001b[0m \u001b[32m1.1/1.1 MB\u001b[0m \u001b[31m41.7 MB/s\u001b[0m eta \u001b[36m0:00:00\u001b[0m\n",
            "\u001b[?25hRequirement already satisfied: aiohttp<4,>=3.7.4 in /usr/local/lib/python3.8/dist-packages (from discord.py) (3.8.3)\n",
            "Requirement already satisfied: multidict<7.0,>=4.5 in /usr/local/lib/python3.8/dist-packages (from aiohttp<4,>=3.7.4->discord.py) (6.0.4)\n",
            "Requirement already satisfied: frozenlist>=1.1.1 in /usr/local/lib/python3.8/dist-packages (from aiohttp<4,>=3.7.4->discord.py) (1.3.3)\n",
            "Requirement already satisfied: charset-normalizer<3.0,>=2.0 in /usr/local/lib/python3.8/dist-packages (from aiohttp<4,>=3.7.4->discord.py) (2.1.1)\n",
            "Requirement already satisfied: attrs>=17.3.0 in /usr/local/lib/python3.8/dist-packages (from aiohttp<4,>=3.7.4->discord.py) (22.2.0)\n",
            "Requirement already satisfied: aiosignal>=1.1.2 in /usr/local/lib/python3.8/dist-packages (from aiohttp<4,>=3.7.4->discord.py) (1.3.1)\n",
            "Requirement already satisfied: async-timeout<5.0,>=4.0.0a3 in /usr/local/lib/python3.8/dist-packages (from aiohttp<4,>=3.7.4->discord.py) (4.0.2)\n",
            "Requirement already satisfied: yarl<2.0,>=1.0 in /usr/local/lib/python3.8/dist-packages (from aiohttp<4,>=3.7.4->discord.py) (1.8.2)\n",
            "Requirement already satisfied: idna>=2.0 in /usr/local/lib/python3.8/dist-packages (from yarl<2.0,>=1.0->aiohttp<4,>=3.7.4->discord.py) (2.10)\n",
            "Installing collected packages: discord.py\n",
            "Successfully installed discord.py-2.1.1\n",
            "Looking in indexes: https://pypi.org/simple, https://us-python.pkg.dev/colab-wheels/public/simple/\n",
            "Collecting nest_asyncio\n",
            "  Downloading nest_asyncio-1.5.6-py3-none-any.whl (5.2 kB)\n",
            "Installing collected packages: nest_asyncio\n",
            "Successfully installed nest_asyncio-1.5.6\n"
          ]
        }
      ]
    },
    {
      "cell_type": "code",
      "source": [
        "# discord bot 테스트\n",
        "import json\n",
        "import nest_asyncio \n",
        "import discord\n",
        "from discord.ext import commands\n",
        "\n",
        "nest_asyncio.apply()\n",
        "\n",
        "with open(\"/content/discord_bot_token.json\", \"r\") as json_file:\n",
        "    json_data = json.load(json_file)\n",
        "token = json_data['token']\n",
        "\n",
        "intents = discord.Intents.default()\n",
        "intents.message_content = True\n",
        "bot = commands.Bot(command_prefix='.', intents=intents)\n",
        "\n",
        "@bot.command()\n",
        "async def ping(ctx, *args):\n",
        "    await ctx.send('pong '+ str(args)) # 일단 *args로 여러개 받아올 수는 있는 듯.\n",
        "\n",
        "@bot.command()\n",
        "async def h(ctx):\n",
        "    await ctx.send('사용방법 알려주는 내용') # 사용방법 알려주는 help\n",
        "\n",
        "@bot.command()\n",
        "async def status(ctx, *args): # 주식 매수/매도 설정, 현황 확인\n",
        "    await ctx.send('주식 매수/매도 설정, 현황 확인해서 보여주는 코드')\n",
        "\n",
        "@bot.command()\n",
        "async def buy(ctx, *args): # 매수 설정\n",
        "    await ctx.send('매수 설정하는 코드')\n",
        "\n",
        "@bot.command()\n",
        "async def sell(ctx, *args): # 매도 설정\n",
        "    await ctx.send('매도 설정하는 코드')\n",
        "\n",
        "@bot.command()\n",
        "async def t(ctx, *args):\n",
        "    await ctx.send('')\n",
        "\n",
        "\n",
        "\n",
        "bot.run(token)"
      ],
      "metadata": {
        "colab": {
          "base_uri": "https://localhost:8080/"
        },
        "id": "RpAtGDW8wr6e",
        "outputId": "ff665dbc-056e-4795-c859-87d4b6e2f19a"
      },
      "execution_count": 12,
      "outputs": [
        {
          "output_type": "stream",
          "name": "stderr",
          "text": [
            "[2023-02-12 07:58:58] [INFO    ] discord.client: logging in using static token\n",
            "[2023-02-12 07:58:58] [INFO    ] discord.client: logging in using static token\n",
            "[2023-02-12 07:58:58] [INFO    ] discord.client: logging in using static token\n",
            "[2023-02-12 07:58:58] [INFO    ] discord.client: logging in using static token\n",
            "[2023-02-12 07:58:58] [INFO    ] discord.client: logging in using static token\n",
            "INFO:discord.client:logging in using static token\n",
            "[2023-02-12 07:58:58] [INFO    ] discord.gateway: Shard ID None has connected to Gateway (Session ID: ff757bb97e444e7168b37e32082f6d72).\n",
            "[2023-02-12 07:58:58] [INFO    ] discord.gateway: Shard ID None has connected to Gateway (Session ID: ff757bb97e444e7168b37e32082f6d72).\n",
            "[2023-02-12 07:58:58] [INFO    ] discord.gateway: Shard ID None has connected to Gateway (Session ID: ff757bb97e444e7168b37e32082f6d72).\n",
            "[2023-02-12 07:58:58] [INFO    ] discord.gateway: Shard ID None has connected to Gateway (Session ID: ff757bb97e444e7168b37e32082f6d72).\n",
            "[2023-02-12 07:58:58] [INFO    ] discord.gateway: Shard ID None has connected to Gateway (Session ID: ff757bb97e444e7168b37e32082f6d72).\n",
            "INFO:discord.gateway:Shard ID None has connected to Gateway (Session ID: ff757bb97e444e7168b37e32082f6d72).\n"
          ]
        }
      ]
    }
  ]
}